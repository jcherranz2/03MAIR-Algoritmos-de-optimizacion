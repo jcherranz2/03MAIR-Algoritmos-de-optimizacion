{
  "nbformat": 4,
  "nbformat_minor": 0,
  "metadata": {
    "colab": {
      "name": "Untitled2.ipynb",
      "version": "0.3.2",
      "provenance": [],
      "include_colab_link": true
    },
    "kernelspec": {
      "name": "python3",
      "display_name": "Python 3"
    }
  },
  "cells": [
    {
      "cell_type": "markdown",
      "metadata": {
        "id": "view-in-github",
        "colab_type": "text"
      },
      "source": [
        "<a href=\"https://colab.research.google.com/github/jcherranz2/03MAIR-Algoritmos-de-optimizacion/blob/master/Algoritmos_Ordenacion.ipynb\" target=\"_parent\"><img src=\"https://colab.research.google.com/assets/colab-badge.svg\" alt=\"Open In Colab\"/></a>"
      ]
    },
    {
      "metadata": {
        "id": "aLoyzBikaYwG",
        "colab_type": "code",
        "colab": {
          "base_uri": "https://localhost:8080/",
          "height": 34
        },
        "outputId": "36196faf-f3aa-4da6-8347-d268c5c210c9"
      },
      "cell_type": "code",
      "source": [
        "A = [9187,266,4054,1745,7798,3134,4455,5500,2340,6789,934, 2345]\n",
        "def buble_sort(unaLista):\n",
        "    for numPasada in range(len(unaLista)-1,0,-1):\n",
        "        for i in range(numPasada):\n",
        "            if unaLista[i]>unaLista[i+1]:\n",
        "                temp = unaLista[i]\n",
        "                unaLista[i] = unaLista[i+1]\n",
        "                unaLista[i+1] = temp\n",
        "\n",
        "buble_sort(A)\n",
        "print(A)\n"
      ],
      "execution_count": 2,
      "outputs": [
        {
          "output_type": "stream",
          "text": [
            "[266, 934, 1745, 2340, 2345, 3134, 4054, 4455, 5500, 6789, 7798, 9187]\n"
          ],
          "name": "stdout"
        }
      ]
    },
    {
      "metadata": {
        "id": "tagHiUoAd0FO",
        "colab_type": "code",
        "colab": {}
      },
      "cell_type": "code",
      "source": [
        ""
      ],
      "execution_count": 0,
      "outputs": []
    }
  ]
}