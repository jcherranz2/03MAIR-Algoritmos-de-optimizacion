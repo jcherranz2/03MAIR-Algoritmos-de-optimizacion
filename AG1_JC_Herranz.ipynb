{
  "nbformat": 4,
  "nbformat_minor": 0,
  "metadata": {
    "colab": {
      "name": "AG1_JC_Herranz.ipynb",
      "version": "0.3.2",
      "provenance": [],
      "include_colab_link": true
    },
    "kernelspec": {
      "name": "python3",
      "display_name": "Python 3"
    }
  },
  "cells": [
    {
      "cell_type": "markdown",
      "metadata": {
        "id": "view-in-github",
        "colab_type": "text"
      },
      "source": [
        "<a href=\"https://colab.research.google.com/github/jcherranz2/03MAIR-Algoritmos-de-optimizacion/blob/master/AG1_JC_Herranz.ipynb\" target=\"_parent\"><img src=\"https://colab.research.google.com/assets/colab-badge.svg\" alt=\"Open In Colab\"/></a>"
      ]
    },
    {
      "metadata": {
        "id": "NuyHPPgK1Yr1",
        "colab_type": "text"
      },
      "cell_type": "markdown",
      "source": [
        "AG1<br>\n",
        "JUAN CARLOS HERRANZ<br>\n",
        "https://github.com/jcherranz2/03MAIR-Algoritmos-de-optimizacion/tree/master/AG1\n"
      ]
    },
    {
      "metadata": {
        "id": "bKxgG9si1r4-",
        "colab_type": "code",
        "colab": {
          "base_uri": "https://localhost:8080/",
          "height": 336
        },
        "outputId": "82029e0b-e5ac-4630-f15e-c66ea0a39532"
      },
      "cell_type": "code",
      "source": [
        "\n",
        "A = [9187, 244, 4054, 9222, 8373, 4993, 5265, 5470, 4519, 7182, 2035, 3506, 4337, 7580, 2554, 2824, 8357, 4447, 7379]\n",
        "\n",
        "def quick_sort(A):\n",
        "  if len(A) == 1:\n",
        "    return A\n",
        "  elif len(A) == 2:\n",
        "    return [min(A), max(A)]\n",
        "  \n",
        "  IZQ = []\n",
        "  DER = []\n",
        "  pivote = (A[0] + A[1] + A[2])/3\n",
        "  \n",
        "  for i in A:\n",
        "    if i<pivote:\n",
        "      IZQ.append(i)\n",
        "    else:\n",
        "      DER.append(i)\n",
        "      \n",
        "  return quick_sort(IZQ) + quick_sort(DER)  \n",
        "\n",
        "quick_sort(A)"
      ],
      "execution_count": 10,
      "outputs": [
        {
          "output_type": "execute_result",
          "data": {
            "text/plain": [
              "[244,\n",
              " 2035,\n",
              " 2554,\n",
              " 2824,\n",
              " 3506,\n",
              " 4054,\n",
              " 4337,\n",
              " 4447,\n",
              " 4519,\n",
              " 4993,\n",
              " 5265,\n",
              " 5470,\n",
              " 7182,\n",
              " 7379,\n",
              " 7580,\n",
              " 8357,\n",
              " 8373,\n",
              " 9187,\n",
              " 9222]"
            ]
          },
          "metadata": {
            "tags": []
          },
          "execution_count": 10
        }
      ]
    },
    {
      "metadata": {
        "id": "4MGL-nXXAroB",
        "colab_type": "code",
        "colab": {
          "base_uri": "https://localhost:8080/",
          "height": 34
        },
        "outputId": "d9aeda85-ed89-4d24-948f-4fa9aa005124"
      },
      "cell_type": "code",
      "source": [
        "SISTEMA = [25,10,5,1]\n",
        "def cambio_monedas(CANTIDAD, SISTEMA):\n",
        "  SOLUCION = [0 for i in range(len(SISTEMA))]\n",
        "  \n",
        "  VALOR_ACUMULADO = 0\n",
        "  \n",
        "  for i in  range(len(SISTEMA)):\n",
        "    monedas = int((CANTIDAD-VALOR_ACUMULADO)/SISTEMA[i])\n",
        "    SOLUCION[i] = monedas\n",
        "    VALOR_ACUMULADO += monedas *SISTEMA[i]\n",
        "    \n",
        "    if CANTIDAD == VALOR_ACUMULADO: \n",
        "      return SOLUCION\n",
        "  \n",
        "cambio_monedas(99, SISTEMA)"
      ],
      "execution_count": 20,
      "outputs": [
        {
          "output_type": "execute_result",
          "data": {
            "text/plain": [
              "[3, 2, 0, 4]"
            ]
          },
          "metadata": {
            "tags": []
          },
          "execution_count": 20
        }
      ]
    },
    {
      "metadata": {
        "id": "VxjSRIunDsQm",
        "colab_type": "code",
        "colab": {}
      },
      "cell_type": "code",
      "source": [
        ""
      ],
      "execution_count": 0,
      "outputs": []
    },
    {
      "metadata": {
        "id": "BA2hpOj23aw5",
        "colab_type": "code",
        "colab": {}
      },
      "cell_type": "code",
      "source": [
        ""
      ],
      "execution_count": 0,
      "outputs": []
    }
  ]
}