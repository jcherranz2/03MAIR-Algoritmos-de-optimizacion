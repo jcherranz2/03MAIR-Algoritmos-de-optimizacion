{
  "nbformat": 4,
  "nbformat_minor": 0,
  "metadata": {
    "colab": {
      "name": "Sort_Test.ipynb",
      "version": "0.3.2",
      "provenance": [],
      "include_colab_link": true
    },
    "kernelspec": {
      "name": "python3",
      "display_name": "Python 3"
    }
  },
  "cells": [
    {
      "cell_type": "markdown",
      "metadata": {
        "id": "view-in-github",
        "colab_type": "text"
      },
      "source": [
        "<a href=\"https://colab.research.google.com/github/jcherranz2/03MAIR-Algoritmos-de-optimizacion/blob/master/Sort_Test.ipynb\" target=\"_parent\"><img src=\"https://colab.research.google.com/assets/colab-badge.svg\" alt=\"Open In Colab\"/></a>"
      ]
    },
    {
      "metadata": {
        "id": "ShWb7kjDjoit",
        "colab_type": "code",
        "colab": {
          "base_uri": "https://localhost:8080/",
          "height": 171
        },
        "outputId": "c8476fec-1eb7-4c16-a7e0-c7ea71fb85d9"
      },
      "cell_type": "code",
      "source": [
        "!pip install sorting\n",
        "import sorting "
      ],
      "execution_count": 3,
      "outputs": [
        {
          "output_type": "stream",
          "text": [
            "Collecting sorting\n",
            "  Downloading https://files.pythonhosted.org/packages/5f/c8/2d2318aa6697f8771371bdfb27c12bff5437f5b2f323a11563f2a8bf4fdf/sorting-1.0.2.tar.gz\n",
            "Building wheels for collected packages: sorting\n",
            "  Building wheel for sorting (setup.py) ... \u001b[?25ldone\n",
            "\u001b[?25h  Stored in directory: /root/.cache/pip/wheels/1d/69/7d/afb45b857f9cd6d7927312839c0928f20284f476cb4265474e\n",
            "Successfully built sorting\n",
            "Installing collected packages: sorting\n",
            "Successfully installed sorting-1.0.2\n"
          ],
          "name": "stdout"
        }
      ]
    },
    {
      "metadata": {
        "id": "Wyk0ICQGkRzo",
        "colab_type": "code",
        "colab": {
          "base_uri": "https://localhost:8080/",
          "height": 34
        },
        "outputId": "0f653f1f-6b98-4eff-c2cf-f13905b2c8c2"
      },
      "cell_type": "code",
      "source": [
        "lista = [1, 56, 23, 45,123, 456, 990, 334, 230]\n",
        "lista_ordenada = sorting.bubble(lista)\n",
        "lista_ordenada"
      ],
      "execution_count": 5,
      "outputs": [
        {
          "output_type": "execute_result",
          "data": {
            "text/plain": [
              "[1, 23, 45, 56, 123, 230, 334, 456, 990]"
            ]
          },
          "metadata": {
            "tags": []
          },
          "execution_count": 5
        }
      ]
    },
    {
      "metadata": {
        "id": "Z5TvWQzGlJq7",
        "colab_type": "text"
      },
      "cell_type": "markdown",
      "source": [
        "Este es mi primer código en github"
      ]
    },
    {
      "metadata": {
        "id": "7kP9o8cMksdz",
        "colab_type": "code",
        "colab": {}
      },
      "cell_type": "code",
      "source": [
        ""
      ],
      "execution_count": 0,
      "outputs": []
    }
  ]
}