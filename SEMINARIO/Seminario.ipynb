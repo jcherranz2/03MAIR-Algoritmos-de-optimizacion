{
  "nbformat": 4,
  "nbformat_minor": 0,
  "metadata": {
    "colab": {
      "name": "Seminario.ipynb",
      "version": "0.3.2",
      "provenance": [],
      "include_colab_link": true
    },
    "kernelspec": {
      "name": "python3",
      "display_name": "Python 3"
    }
  },
  "cells": [
    {
      "cell_type": "markdown",
      "metadata": {
        "id": "view-in-github",
        "colab_type": "text"
      },
      "source": [
        "<a href=\"https://colab.research.google.com/github/jcherranz2/03MAIR-Algoritmos-de-optimizacion/blob/master/SEMINARIO/Seminario.ipynb\" target=\"_parent\"><img src=\"https://colab.research.google.com/assets/colab-badge.svg\" alt=\"Open In Colab\"/></a>"
      ]
    },
    {
      "metadata": {
        "id": "ZzMjL_UWnvlz",
        "colab_type": "text"
      },
      "cell_type": "markdown",
      "source": [
        "##Algoritmos de optimización - Seminario<br>\n",
        "Nombre y Apellidos:  Juan Carlos Herranz <br>\n",
        "Url: https://github.com/jcherranz2/03MAIR-Algoritmos-de-optimizacion/tree/master/SEMINARIO<br>\n",
        "Problema:\n",
        "\n",
        "###  > 3. Combinar cifras y operaciones\n",
        "\n",
        "  Descripción del problema: Disponemos de las 9 cifras del 1 al 9 (excluimos el cero) y de los cuatro signos básicos de las operaciones fundamentales: suma(+), resta(-), multiplicación(*) y division(/). Debemos combinarlos alternativamente sin repetir ninguno de ellos para obtener una cantidad dada.\n",
        "\n"
      ]
    },
    {
      "metadata": {
        "id": "ptNAeIYGm-wU",
        "colab_type": "text"
      },
      "cell_type": "markdown",
      "source": [
        "### Preguntas\n",
        "\n",
        "1. ¿Cuantas posibilidades hay sin tener en cuenta las restricciones?\n",
        "\n",
        "Si no hay restricciones entendemos que podemos repetir cualquier dígito y cualquier operador en cada una de las posiciones reservadas para los símbolos y los operadores básicos, por lo que las conbinaciones son:\n",
        "\n",
        "                      \n",
        "                      9*4*9*4*9*4*9*4*9 = 15.116.544 combinaciones."
      ]
    },
    {
      "metadata": {
        "id": "Rj41wodrtn9a",
        "colab_type": "text"
      },
      "cell_type": "markdown",
      "source": [
        "2. ¿Cuantas posibilidades hay teniendo en cuenta todas las restricciones?\n",
        "\n",
        "Tenemos una tupla de 9 elementos en los que no podemos repetir ningún dígito y ningún operador. Si hemos usado un dígito en la primera posición, en la siguiente que toque dígito usaremos una menos y así sucesivamente, Lo mismo pasa con los cuatro operadores, por lo que las posibles combinaciones serían:\n",
        "\n",
        "              (9 * 4 * 8 * 3 * 7 * 2 * 6 * 1 * 5) = 362.880\n",
        "             "
      ]
    },
    {
      "metadata": {
        "id": "0DXWa92gve8H",
        "colab_type": "text"
      },
      "cell_type": "markdown",
      "source": [
        ""
      ]
    }
  ]
}