{
  "nbformat": 4,
  "nbformat_minor": 0,
  "metadata": {
    "colab": {
      "name": "Seminario.ipynb",
      "version": "0.3.2",
      "provenance": [],
      "include_colab_link": true
    },
    "kernelspec": {
      "name": "python3",
      "display_name": "Python 3"
    }
  },
  "cells": [
    {
      "cell_type": "markdown",
      "metadata": {
        "id": "view-in-github",
        "colab_type": "text"
      },
      "source": [
        "<a href=\"https://colab.research.google.com/github/jcherranz2/03MAIR-Algoritmos-de-optimizacion/blob/master/SEMINARIO/Seminario.ipynb\" target=\"_parent\"><img src=\"https://colab.research.google.com/assets/colab-badge.svg\" alt=\"Open In Colab\"/></a>"
      ]
    },
    {
      "metadata": {
        "id": "ZzMjL_UWnvlz",
        "colab_type": "text"
      },
      "cell_type": "markdown",
      "source": [
        "##Algoritmos de optimización - Seminario<br>\n",
        "Nombre y Apellidos:  Juan Carlos Herranz <br>\n",
        "Url: https://github.com/jcherranz2/03MAIR-Algoritmos-de-optimizacion/tree/master/SEMINARIO<br>\n",
        "Problema:\n",
        "\n",
        "###  > PROBLEMA 3. Combinar cifras y operaciones\n",
        "\n",
        "  Descripción del problema: Disponemos de las 9 cifras del 1 al 9 (excluimos el cero) y de los cuatro signos básicos de las operaciones fundamentales: suma(+), resta(-), multiplicación(*) y division(/). Debemos combinarlos alternativamente sin repetir ninguno de ellos para obtener una cantidad dada.\n",
        "\n"
      ]
    },
    {
      "metadata": {
        "id": "ptNAeIYGm-wU",
        "colab_type": "text"
      },
      "cell_type": "markdown",
      "source": [
        "### Preguntas\n",
        "\n",
        "1- ¿Cuantas posibilidades hay sin tener en cuenta las restricciones?\n",
        "\n",
        "Si no hay restricciones entendemos que podemos repetir cualquier dígito y cualquier operador en cada una de las posiciones reservadas para los símbolos y los operadores básicos, por lo que las conbinaciones son:\n",
        "\n",
        "                      \n",
        "                      9*4*9*4*9*4*9*4*9 = 15.116.544 combinaciones."
      ]
    },
    {
      "metadata": {
        "id": "Rj41wodrtn9a",
        "colab_type": "text"
      },
      "cell_type": "markdown",
      "source": [
        "2- ¿Cuantas posibilidades hay teniendo en cuenta todas las restricciones?\n",
        "\n",
        "Tenemos una tupla de 9 elementos en los que no podemos repetir ningún dígito y ningún operador. Si hemos usado un dígito en la primera posición, en la siguiente que toque dígito usaremos una menos y así sucesivamente, Lo mismo pasa con los cuatro operadores, por lo que las posibles combinaciones serían:\n",
        "\n",
        "              (9 * 4 * 8 * 3 * 7 * 2 * 6 * 1 * 5) = 362.880\n",
        "             "
      ]
    },
    {
      "metadata": {
        "id": "0DXWa92gve8H",
        "colab_type": "text"
      },
      "cell_type": "markdown",
      "source": [
        "3- ¿Cual es la estructura de datos que mejor se adapta al problema?\n",
        "\n",
        "La tupla o la lista de datos. Podemos utilizar una lista para los operadores y otra para los dígitos y luego generar las combinaciones. También podemos usar una lilsta de 9 elementos y manipularla en los bucles de búsquedas dependiendo de si la posición corresponde a un operador o a un dígito.  "
      ]
    },
    {
      "metadata": {
        "id": "rFMkGGxnyR4G",
        "colab_type": "text"
      },
      "cell_type": "markdown",
      "source": [
        "4- ¿Cual es la función objetivo?\n",
        "\n",
        "En este caso es muy sencillo porque función objetivo es el resultado de usar los operadores con los dígitos que tienen a ambos lados. Es decir, si designamos a los dígitos como di y a los operadores opj, tenemos que la función objetivo para el caso del problema que estamos tratanto se puede expresar como:\n",
        "\n",
        "        (d1)op1(d2)op2(d3)op3(d4)op4(d5) = resultado\n",
        "        \n",
        "En este problema buscamos la combinación adecuada de operadores y dígitos, con las restricciones de no repetición de ningún dígito u operador y que iguale un determinado resultado."
      ]
    },
    {
      "metadata": {
        "id": "A5Fcbdiw12OI",
        "colab_type": "text"
      },
      "cell_type": "markdown",
      "source": [
        "5- ¿Es un problema de maximización o minimización?\n",
        "\n",
        "Directamente no parece y no es un problema de maximizar una función. Tenemos que encontrar una combinación que nos de como resultado un valor concreto y lo más probable es que haya más de una, aunque con una nos basta. Sin embargo, de forma indirecta, dependiendo de la combinación de partida, podemos convertilo en un problema en el que utlicemos algunas técnicas de búsquedas de máximos o mínimos. En este caso seríaa un  máximo o mínimo local del que conocemos el valor.   "
      ]
    },
    {
      "metadata": {
        "id": "prWyqQSn57Zj",
        "colab_type": "text"
      },
      "cell_type": "markdown",
      "source": [
        "6- Diseña un algoritmo para resolver el problema por fuerza bruta"
      ]
    },
    {
      "metadata": {
        "id": "FOJG1mkc6IMM",
        "colab_type": "code",
        "colab": {}
      },
      "cell_type": "code",
      "source": [
        "#Decorador para tiempos de ejecución\n",
        "from time import time\n",
        "\n",
        "#Función para calcular tiempo de ejecución\n",
        "def calcular_tiempo(f):\n",
        "    def wrapper(*args, **kwargs):        \n",
        "        inicio = time()       \n",
        "        resultado = f(*args, **kwargs)       \n",
        "        tiempo = time() - inicio\n",
        "        print(\"Tiempo de ejecución para algoritmo: \"+str(tiempo))\n",
        "        return resultado\n",
        "    \n",
        "    return wrapper"
      ],
      "execution_count": 0,
      "outputs": []
    },
    {
      "metadata": {
        "id": "23h8j-LZ6U3J",
        "colab_type": "code",
        "colab": {
          "base_uri": "https://localhost:8080/",
          "height": 101
        },
        "outputId": "3dab1f70-0371-4314-d0d7-84c1e0a21817"
      },
      "cell_type": "code",
      "source": [
        "#Resolución por fuerza bruta\n",
        "@calcular_tiempo\n",
        "def combinar_cifras_operaciones(valor):\n",
        "  \n",
        "  operadores = ['*','+','-','/']\n",
        "  valores = [1,2,3,4,5,6,7,8,9]\n",
        "  \n",
        "\n",
        "  for d1 in range(1,10):\n",
        "    for op1 in operadores:\n",
        "      for d2 in valores: \n",
        "        if d2 != d1:\n",
        "          for op2 in operadores:\n",
        "            if op1!=op2:\n",
        "              for d3 in valores:\n",
        "                if d3!=d1 and d3!=d2:\n",
        "                  for op3 in operadores:\n",
        "                    if op3!=op1 and op3!=op2:\n",
        "                      for d4 in valores:\n",
        "                        if d4!=d3 and d4!=d2 and d4!=d1:\n",
        "                          for op4 in operadores:\n",
        "                            if op4!=op3 and op4!=op2 and op4!=op1:\n",
        "                              for d5 in valores:\n",
        "                                if d5!=d4 and d5!=d3 and d5!=d2 and d5!=d1:                                                  \n",
        "                                  cadena = str(d1)+op1+str(d2)+op2+str(d3)+op3+str(d4)+op4+str(d5)\n",
        "                                  #Evaluo expresión. \n",
        "                                  if (eval(cadena)==valor):\n",
        "                                    print(\"\\nRESULTADO FUERZA BRUTA:\")\n",
        "                                    print(cadena,\"=\",str(valor),'\\n')\n",
        "                                    return\n",
        "  \n",
        "\n",
        "  #En caso de no haber encontrado ninguna solución se imprime que no hay solución\n",
        "  print(\"SIN SOLUCIÓN\");\n",
        "  \n",
        "\n",
        "\n",
        "combinar_cifras_operaciones(57)"
      ],
      "execution_count": 56,
      "outputs": [
        {
          "output_type": "stream",
          "text": [
            "\n",
            "RESULTADO FUERZA BRUTA:\n",
            "2+7*9-8/1 = 57 \n",
            "\n",
            "Tiempo de ejecución para algoritmo: 0.5195972919464111\n"
          ],
          "name": "stdout"
        }
      ]
    },
    {
      "metadata": {
        "id": "eRQ0IPrAYlaJ",
        "colab_type": "text"
      },
      "cell_type": "markdown",
      "source": [
        "7- Calcula la complejidad del algoritmo por fuerza bruta\n",
        "\n",
        "Si n es el numero de digitos y el número de operadores lo  consideramos fiji e igual 4. El número de operaciones elementales del algoritmo anterior sería:\n",
        "\n",
        " \n",
        "\n",
        "Orden = N x (N-1) x (,N-2) x (N-3) x (N-4) x k es decir, O(k*(N^5))\n",
        "\n",
        "Donde k es una cosntate k= 4 x 3 x 2 x1 x Operaciones elementales en cada bucle.\n"
      ]
    },
    {
      "metadata": {
        "id": "jrVOFp9LasdQ",
        "colab_type": "text"
      },
      "cell_type": "markdown",
      "source": [
        "8- Diseña un algoritmo que mejore la complejidad del algoritmo por fuerza bruta. Argumenta por que crees que es mejor que el algoritmo por fuerza bruta.\n",
        "\n",
        "Utilizaré una búsque heurística y experimentaré con el mismo número que en el apartado anterior."
      ]
    },
    {
      "metadata": {
        "id": "jdSp0Acfa_U2",
        "colab_type": "code",
        "colab": {
          "base_uri": "https://localhost:8080/",
          "height": 101
        },
        "outputId": "c640c79d-66b1-4613-d9ec-504ad9dae660"
      },
      "cell_type": "code",
      "source": [
        "import random\n",
        "\n",
        "def solucion_heuristica():\n",
        "  \n",
        "  operadores = ['*','+','-','/']\n",
        "  valores = [1,2,3,4,5,6,7,8,9]\n",
        "  solucion = ''\n",
        "  \n",
        "  for i in range(9):\n",
        "    if i%2==0:\n",
        "      num = valores[random.randint(0,len(valores)-1)]\n",
        "      solucion=solucion+str(num)\n",
        "      valores.remove(num)\n",
        "    else:\n",
        "      op = operadores[random.randint(0,len(operadores)-1)]\n",
        "      solucion=solucion+op\n",
        "      operadores.remove(op)\n",
        "  \n",
        "  return solucion\n",
        "\n",
        "@calcular_tiempo\n",
        "def algoritmo_heuristico(num_iteraciones, valor):\n",
        "  for i in range(num_iteraciones):\n",
        "    resul = solucion_heuristica()\n",
        "    if eval(resul)==valor:\n",
        "      print(\"\\nSOLUCION ALGORITMO HEURISTICO:\")\n",
        "      print(resul,\"=\",str(valor),'\\n')\n",
        "      return\n",
        "  \n",
        "  print(\"NO HAY SOLUCION\")\n",
        "  \n",
        "  \n",
        "algoritmo_heuristico(5000,57)  "
      ],
      "execution_count": 57,
      "outputs": [
        {
          "output_type": "stream",
          "text": [
            "\n",
            "SOLUCION ALGORITMO HEURISTICO:\n",
            "6-5+8/1*7 = 57 \n",
            "\n",
            "Tiempo de ejecución para algoritmo: 0.0816183090209961\n"
          ],
          "name": "stdout"
        }
      ]
    },
    {
      "metadata": {
        "id": "LdHNP4j5iR2l",
        "colab_type": "text"
      },
      "cell_type": "markdown",
      "source": [
        "9 - Calcula la complejidad del algoritmo\n",
        "\n",
        "La complejidad es independiente de N porque siempre que encontramos una solución, el máximo número de operaciones independientes depende del número de iteraciones y no de N. Por tanto, para este algoritmo el orden de complejidad es constante, O(1)."
      ]
    },
    {
      "metadata": {
        "id": "tjUhk59EkRS-",
        "colab_type": "text"
      },
      "cell_type": "markdown",
      "source": [
        "10 - Según el problema (y tenga sentido), diseña un juego de datos de entrada aleatorios\n",
        "\n",
        "Genero 15 valores aleatorios para aplicarlos a los algoritmos de fuerza bruta y heuristico y comparamos tiempos."
      ]
    },
    {
      "metadata": {
        "id": "3O_Ia6YYkhla",
        "colab_type": "code",
        "colab": {}
      },
      "cell_type": "code",
      "source": [
        "valores = [(random.randrange(-50,50)) for _ in range(15)]"
      ],
      "execution_count": 0,
      "outputs": []
    },
    {
      "metadata": {
        "id": "1_8ABJqmlC7K",
        "colab_type": "text"
      },
      "cell_type": "markdown",
      "source": [
        "11- Aplico el algoritmo a los datos generados"
      ]
    },
    {
      "metadata": {
        "id": "Q9P8FVIylHJg",
        "colab_type": "code",
        "colab": {
          "base_uri": "https://localhost:8080/",
          "height": 2537
        },
        "outputId": "afb08c16-2450-4431-9dc5-906244212191"
      },
      "cell_type": "code",
      "source": [
        "for i in valores:\n",
        "  combinar_cifras_operaciones(i)\n",
        "  algoritmo_heuristico(10000,i)\n",
        "\n"
      ],
      "execution_count": 60,
      "outputs": [
        {
          "output_type": "stream",
          "text": [
            "\n",
            "RESULTADO FUERZA BRUTA:\n",
            "1+3-6*9/2 = -23 \n",
            "\n",
            "Tiempo de ejecución para algoritmo: 0.12296867370605469\n",
            "\n",
            "SOLUCION ALGORITMO HEURISTICO:\n",
            "8-7*5/1+4 = -23 \n",
            "\n",
            "Tiempo de ejecución para algoritmo: 0.02638697624206543\n",
            "\n",
            "RESULTADO FUERZA BRUTA:\n",
            "1+6*7-9/3 = 40 \n",
            "\n",
            "Tiempo de ejecución para algoritmo: 0.1340651512145996\n",
            "\n",
            "SOLUCION ALGORITMO HEURISTICO:\n",
            "6*7+3-5/1 = 40 \n",
            "\n",
            "Tiempo de ejecución para algoritmo: 0.025371313095092773\n",
            "\n",
            "RESULTADO FUERZA BRUTA:\n",
            "1*4+9-6/3 = 11 \n",
            "\n",
            "Tiempo de ejecución para algoritmo: 0.02660369873046875\n",
            "\n",
            "SOLUCION ALGORITMO HEURISTICO:\n",
            "9*4/3+1-2 = 11 \n",
            "\n",
            "Tiempo de ejecución para algoritmo: 0.007895708084106445\n",
            "\n",
            "RESULTADO FUERZA BRUTA:\n",
            "1*2+6/3-5 = -1 \n",
            "\n",
            "Tiempo de ejecución para algoritmo: 0.0030164718627929688\n",
            "\n",
            "SOLUCION ALGORITMO HEURISTICO:\n",
            "6-9*1+8/4 = -1 \n",
            "\n",
            "Tiempo de ejecución para algoritmo: 0.004044294357299805\n",
            "\n",
            "RESULTADO FUERZA BRUTA:\n",
            "1+4/2-5*9 = -42 \n",
            "\n",
            "Tiempo de ejecución para algoritmo: 0.11852264404296875\n",
            "\n",
            "SOLUCION ALGORITMO HEURISTICO:\n",
            "9-8*7+5/1 = -42 \n",
            "\n",
            "Tiempo de ejecución para algoritmo: 0.037656307220458984\n",
            "\n",
            "RESULTADO FUERZA BRUTA:\n",
            "1+3*9-6/2 = 25 \n",
            "\n",
            "Tiempo de ejecución para algoritmo: 0.10538029670715332\n",
            "\n",
            "SOLUCION ALGORITMO HEURISTICO:\n",
            "7*9/3-2+6 = 25 \n",
            "\n",
            "Tiempo de ejecución para algoritmo: 0.007370710372924805\n",
            "\n",
            "RESULTADO FUERZA BRUTA:\n",
            "1*7+9-4/2 = 14 \n",
            "\n",
            "Tiempo de ejecución para algoritmo: 0.05970025062561035\n",
            "\n",
            "SOLUCION ALGORITMO HEURISTICO:\n",
            "2+5*4/1-8 = 14 \n",
            "\n",
            "Tiempo de ejecución para algoritmo: 0.004420042037963867\n",
            "\n",
            "RESULTADO FUERZA BRUTA:\n",
            "1+2-6*9/3 = -15 \n",
            "\n",
            "Tiempo de ejecución para algoritmo: 0.09427857398986816\n",
            "\n",
            "SOLUCION ALGORITMO HEURISTICO:\n",
            "5+4-6*8/2 = -15 \n",
            "\n",
            "Tiempo de ejecución para algoritmo: 0.02040243148803711\n",
            "\n",
            "RESULTADO FUERZA BRUTA:\n",
            "2+6*9-8/1 = 48 \n",
            "\n",
            "Tiempo de ejecución para algoritmo: 0.48633623123168945\n",
            "\n",
            "SOLUCION ALGORITMO HEURISTICO:\n",
            "9*5/1-3+6 = 48 \n",
            "\n",
            "Tiempo de ejecución para algoritmo: 0.03978538513183594\n",
            "\n",
            "RESULTADO FUERZA BRUTA:\n",
            "1+5*6-9/3 = 28 \n",
            "\n",
            "Tiempo de ejecución para algoritmo: 0.12228035926818848\n",
            "\n",
            "SOLUCION ALGORITMO HEURISTICO:\n",
            "8/1-7+9*3 = 28 \n",
            "\n",
            "Tiempo de ejecución para algoritmo: 0.030059814453125\n",
            "\n",
            "RESULTADO FUERZA BRUTA:\n",
            "2+6*9-7/1 = 49 \n",
            "\n",
            "Tiempo de ejecución para algoritmo: 0.4910578727722168\n",
            "\n",
            "SOLUCION ALGORITMO HEURISTICO:\n",
            "3-8+6*9/1 = 49 \n",
            "\n",
            "Tiempo de ejecución para algoritmo: 0.024613142013549805\n",
            "\n",
            "RESULTADO FUERZA BRUTA:\n",
            "1+3-4*7/2 = -10 \n",
            "\n",
            "Tiempo de ejecución para algoritmo: 0.10557365417480469\n",
            "\n",
            "SOLUCION ALGORITMO HEURISTICO:\n",
            "1+7-8/4*9 = -10 \n",
            "\n",
            "Tiempo de ejecución para algoritmo: 0.010142326354980469\n",
            "\n",
            "RESULTADO FUERZA BRUTA:\n",
            "1*2+3-8/4 = 3 \n",
            "\n",
            "Tiempo de ejecución para algoritmo: 0.0009615421295166016\n",
            "\n",
            "SOLUCION ALGORITMO HEURISTICO:\n",
            "9-6/3*7+8 = 3 \n",
            "\n",
            "Tiempo de ejecución para algoritmo: 0.0037941932678222656\n",
            "\n",
            "RESULTADO FUERZA BRUTA:\n",
            "1+4-8*9/2 = -31 \n",
            "\n",
            "Tiempo de ejecución para algoritmo: 0.12137365341186523\n",
            "\n",
            "SOLUCION ALGORITMO HEURISTICO:\n",
            "2+9/1-6*7 = -31 \n",
            "\n",
            "Tiempo de ejecución para algoritmo: 0.04868578910827637\n",
            "\n",
            "RESULTADO FUERZA BRUTA:\n",
            "2+4-7*8/1 = -50 \n",
            "\n",
            "Tiempo de ejecución para algoritmo: 0.46929001808166504\n",
            "\n",
            "SOLUCION ALGORITMO HEURISTICO:\n",
            "2+4/1-7*8 = -50 \n",
            "\n",
            "Tiempo de ejecución para algoritmo: 0.08802509307861328\n"
          ],
          "name": "stdout"
        }
      ]
    },
    {
      "metadata": {
        "id": "l6gb5zR-m_hm",
        "colab_type": "text"
      },
      "cell_type": "markdown",
      "source": [
        "**RESULTADO**: SIEMPRE QUE HAY SOLUCIÓN EL ALGORITMO HEURÍSTICO ES MUCHO MÁS RÁPIDO QUE LA FUERZA BRUTA\n"
      ]
    },
    {
      "metadata": {
        "id": "PE6GrGhqmr5s",
        "colab_type": "text"
      },
      "cell_type": "markdown",
      "source": [
        "12- Describe brevemente las lineas de como crees que es posible avanzar en el estudio del problema. Ten en cuenta incluso posibles variaciones del problema y/o variaciones al alza del tamaño.\n",
        "\n",
        "\n",
        "Para un número de dígitos u operadores mayor, por fuerza bruta el algoritmo puede llegar a ser inmanejable. Parece un problema adecuado para el uso de algoritmos genéticos con cruce combinado y probabilidades altas de mutación por rotación. Obviamente si el heurístico programado funciona bien, experimentando con diferentes técnicas de cruce y mutación se pueden conseguir resultados excelentes resultados con el genético, especialmente si aumenta el número de dígitos. \n",
        "\n",
        "\n"
      ]
    }
  ]
}